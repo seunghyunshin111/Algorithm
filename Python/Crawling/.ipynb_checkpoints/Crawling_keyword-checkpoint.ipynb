{
 "cells": [
  {
   "cell_type": "code",
   "execution_count": 1,
   "metadata": {},
   "outputs": [
    {
     "name": "stdout",
     "output_type": "stream",
     "text": [
      "검색어 : 프로야구\n"
     ]
    },
    {
     "data": {
      "text/plain": [
       "12"
      ]
     },
     "execution_count": 1,
     "metadata": {},
     "output_type": "execute_result"
    }
   ],
   "source": [
    "import requests\n",
    "from bs4 import BeautifulSoup\n",
    "\n",
    "url = 'https://search.naver.com/search.naver?sm=top_hty&fbm=0&ie=utf8&query={}'.format(input('검색어 : '))\n",
    "\n",
    "resp = requests.get(url)\n",
    "\n",
    "soup = BeautifulSoup(resp.content, 'lxml')\n",
    "a_tag = soup.select('ul.type01 li dl dt a')\n",
    "\n",
    "len(a_tag)"
   ]
  },
  {
   "cell_type": "code",
   "execution_count": 2,
   "metadata": {},
   "outputs": [
    {
     "name": "stdout",
     "output_type": "stream",
     "text": [
      "프로야구 ‘무관중 언제까지’…속 타는 구단과 KBO\n",
      "워터파크도 개장하는데…프로야구 구단, 무관중에 한계점 임박\n",
      "프로야구 한화-SK, 1대 1 트레이드 단행…노수광↔이태양\n",
      "18일 프로야구 광주 NC-KIA전 우천 취소…추후 편성\n",
      "[2020 프로야구] 본격 여름 레이스, 롯데에 발생한 부상 변수\n",
      "[DUGOUT Tip] 가깝고도 먼 대만 프로야구\n",
      "프로 야구 선수 데뷔가 꿈인 배우\n",
      "통계로 분석한 올해 한국 프로야구 우승 예상팀은?\n",
      "2020 프로야구 일정 및 코로나로 인한 변경사항 소개\n",
      "U+ 프로야구 앱 개편! 주요 U+ 5G 서비스 등 달라진 점은?\n",
      "유플러스 5G 서비스, U+ 프로야구 앱 개편으로 집관을 더욱...\n",
      "집관 야구중계 생생한 5G U+프로야구 개편 소개\n"
     ]
    }
   ],
   "source": [
    "new_list = []\n",
    "for a in a_tag:\n",
    "  print(a.text)"
   ]
  }
 ],
 "metadata": {
  "kernelspec": {
   "display_name": "Python 3",
   "language": "python",
   "name": "python3"
  },
  "language_info": {
   "codemirror_mode": {
    "name": "ipython",
    "version": 3
   },
   "file_extension": ".py",
   "mimetype": "text/x-python",
   "name": "python",
   "nbconvert_exporter": "python",
   "pygments_lexer": "ipython3",
   "version": "3.7.6"
  }
 },
 "nbformat": 4,
 "nbformat_minor": 4
}
