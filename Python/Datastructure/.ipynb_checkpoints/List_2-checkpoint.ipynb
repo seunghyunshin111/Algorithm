{
 "cells": [
  {
   "cell_type": "markdown",
   "metadata": {},
   "source": [
    "## 원소의 개수 세기/ 꺼내기"
   ]
  },
  {
   "cell_type": "code",
   "execution_count": 1,
   "metadata": {},
   "outputs": [
    {
     "name": "stdout",
     "output_type": "stream",
     "text": [
      "3 [1, 2, 3]\n"
     ]
    }
   ],
   "source": [
    "my_list = [1, 2, 2, 3, 3, 3]\n",
    "var1 = my_list.count(3)\n",
    "\n",
    "my_list.pop(1)\n",
    "my_list.pop(-1)\n",
    "my_list.pop(-2)\n",
    "\n",
    "print(var1, my_list)"
   ]
  },
  {
   "cell_type": "markdown",
   "metadata": {},
   "source": [
    "## 리스트 쪼개고 붙이기"
   ]
  },
  {
   "cell_type": "code",
   "execution_count": 3,
   "metadata": {},
   "outputs": [
    {
     "name": "stdout",
     "output_type": "stream",
     "text": [
      "['b', '', 't', 'a'] Seeing is Believing\n"
     ]
    }
   ],
   "source": [
    "my_str = \"beetea\"\n",
    "var1 = my_str.split('e')\n",
    "\n",
    "my_list = [\"Seeing\", \"is\", \"Believing\"]\n",
    "var2 = \" \".join(my_list)\n",
    "\n",
    "print(var1, var2)"
   ]
  }
 ],
 "metadata": {
  "kernelspec": {
   "display_name": "Python 3",
   "language": "python",
   "name": "python3"
  },
  "language_info": {
   "codemirror_mode": {
    "name": "ipython",
    "version": 3
   },
   "file_extension": ".py",
   "mimetype": "text/x-python",
   "name": "python",
   "nbconvert_exporter": "python",
   "pygments_lexer": "ipython3",
   "version": "3.7.6"
  }
 },
 "nbformat": 4,
 "nbformat_minor": 4
}
