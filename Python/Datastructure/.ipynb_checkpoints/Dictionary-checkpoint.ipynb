{
 "cells": [
  {
   "cell_type": "code",
   "execution_count": 3,
   "metadata": {},
   "outputs": [
    {
     "name": "stdout",
     "output_type": "stream",
     "text": [
      "apple {'사과': 'apple', '바나나': 'banana', '체리': 'cherry'}\n"
     ]
    }
   ],
   "source": [
    "my_dict = {'사과':'apple', '바나나':'banana', '당근':'carrot'}\n",
    "var1 = my_dict['사과']\n",
    "\n",
    "del my_dict['당근']\n",
    "my_dict['체리'] = 'cherry'\n",
    "\n",
    "print(var1, my_dict)"
   ]
  },
  {
   "cell_type": "markdown",
   "metadata": {},
   "source": [
    "## 열쇠가 고장나면 자물쇠를 열 수 없죠! 그렇다면 Dictionary도?!"
   ]
  },
  {
   "cell_type": "code",
   "execution_count": 4,
   "metadata": {},
   "outputs": [
    {
     "name": "stdout",
     "output_type": "stream",
     "text": [
      "List는 Dictionary의 Key가 될 수 없습니다.\n"
     ]
    }
   ],
   "source": [
    "my_dict = {}\n",
    "my_dict[1] = 'Integer'\n",
    "my_dict['a'] = \"String\"\n",
    "my_dict[(1, 2, 3)] = \"Tuple\"\n",
    "\n",
    "try:\n",
    "    #여기에 [1, 2, 3] → \"List\"의 대응관계를 만들어봅시다.\n",
    "     my_dict[[1, 2, 3]] = \"List\"\n",
    "    \n",
    "except TypeError:\n",
    "    print(\"List는 Dictionary의 Key가 될 수 없습니다.\")"
   ]
  }
 ],
 "metadata": {
  "kernelspec": {
   "display_name": "Python 3",
   "language": "python",
   "name": "python3"
  },
  "language_info": {
   "codemirror_mode": {
    "name": "ipython",
    "version": 3
   },
   "file_extension": ".py",
   "mimetype": "text/x-python",
   "name": "python",
   "nbconvert_exporter": "python",
   "pygments_lexer": "ipython3",
   "version": "3.7.6"
  }
 },
 "nbformat": 4,
 "nbformat_minor": 4
}
