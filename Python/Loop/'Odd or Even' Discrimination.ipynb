{
 "cells": [
  {
   "cell_type": "code",
   "execution_count": 1,
   "metadata": {},
   "outputs": [
    {
     "name": "stdout",
     "output_type": "stream",
     "text": [
      "50\n",
      "50 짝수입니다.\n"
     ]
    }
   ],
   "source": [
    "num = input()\n",
    "num = int(num)\n",
    "\n",
    "# if-else문을 이용해서 만약 입력받은 수가 홀수면 \"(입력받은 수) 홀수입니다.\"\n",
    "# 짝수면 \"(입력받은 수) 짝수입니다.\"를 출력해봅시다.\n",
    "# 괄호는 출력하지 않습니다.\n",
    "\n",
    "if num % 2 == 0:\n",
    "    print(num, \"짝수입니다.\")\n",
    "else:\n",
    "    print(num, \"홀수입니다.\")"
   ]
  }
 ],
 "metadata": {
  "kernelspec": {
   "display_name": "Python 3",
   "language": "python",
   "name": "python3"
  },
  "language_info": {
   "codemirror_mode": {
    "name": "ipython",
    "version": 3
   },
   "file_extension": ".py",
   "mimetype": "text/x-python",
   "name": "python",
   "nbconvert_exporter": "python",
   "pygments_lexer": "ipython3",
   "version": "3.7.6"
  }
 },
 "nbformat": 4,
 "nbformat_minor": 4
}
