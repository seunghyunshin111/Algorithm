{
  "nbformat": 4,
  "nbformat_minor": 0,
  "metadata": {
    "colab": {
      "name": "Loop_Algorithms",
      "provenance": [],
      "collapsed_sections": []
    },
    "kernelspec": {
      "name": "python3",
      "display_name": "Python 3"
    }
  },
  "cells": [
    {
      "cell_type": "markdown",
      "metadata": {
        "id": "GnKs9ZfRiEFu",
        "colab_type": "text"
      },
      "source": [
        "### 반복 훈련"
      ]
    },
    {
      "cell_type": "markdown",
      "metadata": {
        "id": "z1tMMZZmin_d",
        "colab_type": "text"
      },
      "source": [
        "#### 1번\n",
        "x=[3,6,9,20,-7,5]  \n",
        "양수는 10을 곱하여 저장하고, 음수는 양수로 바꿔준뒤 10을 곱하여 저장해서 출력하세요"
      ]
    },
    {
      "cell_type": "code",
      "metadata": {
        "id": "zOar3KsPij4A",
        "colab_type": "code",
        "colab": {
          "base_uri": "https://localhost:8080/",
          "height": 125
        },
        "outputId": "aa7ad6b5-1d4c-4e52-97bc-f8f0a1be0b82"
      },
      "source": [
        "x = [3, 6, 9, 20, -7, 5]\n",
        "\n",
        "for i in x:\n",
        "  if i < 0:\n",
        "    i = i * -1\n",
        "     \n",
        "  if i % 2 == 0:\n",
        "      i = i * 10\n",
        "  elif i % 2 != 0:\n",
        "      i = i * 10\n",
        "\n",
        "  print(i)"
      ],
      "execution_count": 32,
      "outputs": [
        {
          "output_type": "stream",
          "text": [
            "30\n",
            "60\n",
            "90\n",
            "200\n",
            "70\n",
            "50\n"
          ],
          "name": "stdout"
        }
      ]
    },
    {
      "cell_type": "markdown",
      "metadata": {
        "colab_type": "text",
        "id": "qRgkpxjNjR8e"
      },
      "source": [
        "#### 2번\n",
        "y={“math”:70,“science”:80,“english”:20}의값의모든요소에10을더하여저장한뒤출력하세요"
      ]
    },
    {
      "cell_type": "code",
      "metadata": {
        "colab_type": "code",
        "id": "37ZetDItjR8f",
        "colab": {}
      },
      "source": [
        "y = {\"math\":70, \"science\":80, \"english\":20}\n",
        "y.values()"
      ],
      "execution_count": 0,
      "outputs": []
    },
    {
      "cell_type": "markdown",
      "metadata": {
        "colab_type": "text",
        "id": "E-HlOhw2jj1D"
      },
      "source": [
        "#### 3번\n",
        "구구단 2단부터 9단까지 출력해보세요.  \n",
        "예)  \n",
        "2 x 1 = 2  \n",
        "2 x 2 = 4  \n",
        "2 x 3 = 6  \n",
        "  \n",
        "...  \n",
        "  \n",
        "9 x 9 = 81  \n"
      ]
    },
    {
      "cell_type": "code",
      "metadata": {
        "colab_type": "code",
        "id": "9LNea87vjj1F",
        "colab": {
          "base_uri": "https://localhost:8080/",
          "height": 1000
        },
        "outputId": "1842075e-9c32-474f-c0d3-e18db2575aac"
      },
      "source": [
        "for i in range(2, 10):\n",
        "    print(\"----------\")\n",
        "    for j in range(1, 10):\n",
        "        print(i, \"x\", j, \"=\", i*j)"
      ],
      "execution_count": 33,
      "outputs": [
        {
          "output_type": "stream",
          "text": [
            "----------\n",
            "2 x 1 = 2\n",
            "2 x 2 = 4\n",
            "2 x 3 = 6\n",
            "2 x 4 = 8\n",
            "2 x 5 = 10\n",
            "2 x 6 = 12\n",
            "2 x 7 = 14\n",
            "2 x 8 = 16\n",
            "2 x 9 = 18\n",
            "----------\n",
            "3 x 1 = 3\n",
            "3 x 2 = 6\n",
            "3 x 3 = 9\n",
            "3 x 4 = 12\n",
            "3 x 5 = 15\n",
            "3 x 6 = 18\n",
            "3 x 7 = 21\n",
            "3 x 8 = 24\n",
            "3 x 9 = 27\n",
            "----------\n",
            "4 x 1 = 4\n",
            "4 x 2 = 8\n",
            "4 x 3 = 12\n",
            "4 x 4 = 16\n",
            "4 x 5 = 20\n",
            "4 x 6 = 24\n",
            "4 x 7 = 28\n",
            "4 x 8 = 32\n",
            "4 x 9 = 36\n",
            "----------\n",
            "5 x 1 = 5\n",
            "5 x 2 = 10\n",
            "5 x 3 = 15\n",
            "5 x 4 = 20\n",
            "5 x 5 = 25\n",
            "5 x 6 = 30\n",
            "5 x 7 = 35\n",
            "5 x 8 = 40\n",
            "5 x 9 = 45\n",
            "----------\n",
            "6 x 1 = 6\n",
            "6 x 2 = 12\n",
            "6 x 3 = 18\n",
            "6 x 4 = 24\n",
            "6 x 5 = 30\n",
            "6 x 6 = 36\n",
            "6 x 7 = 42\n",
            "6 x 8 = 48\n",
            "6 x 9 = 54\n",
            "----------\n",
            "7 x 1 = 7\n",
            "7 x 2 = 14\n",
            "7 x 3 = 21\n",
            "7 x 4 = 28\n",
            "7 x 5 = 35\n",
            "7 x 6 = 42\n",
            "7 x 7 = 49\n",
            "7 x 8 = 56\n",
            "7 x 9 = 63\n",
            "----------\n",
            "8 x 1 = 8\n",
            "8 x 2 = 16\n",
            "8 x 3 = 24\n",
            "8 x 4 = 32\n",
            "8 x 5 = 40\n",
            "8 x 6 = 48\n",
            "8 x 7 = 56\n",
            "8 x 8 = 64\n",
            "8 x 9 = 72\n",
            "----------\n",
            "9 x 1 = 9\n",
            "9 x 2 = 18\n",
            "9 x 3 = 27\n",
            "9 x 4 = 36\n",
            "9 x 5 = 45\n",
            "9 x 6 = 54\n",
            "9 x 7 = 63\n",
            "9 x 8 = 72\n",
            "9 x 9 = 81\n"
          ],
          "name": "stdout"
        }
      ]
    },
    {
      "cell_type": "markdown",
      "metadata": {
        "colab_type": "text",
        "id": "lQ_V6YiNjj1K"
      },
      "source": [
        "#### 4번\n",
        "word=[“school”,“game”,“piano”,“science”,“hotel”,“mountian”]중  \n",
        " 글자 수가 6글자 이상인문자를모아새로운리스트를생성하세요"
      ]
    },
    {
      "cell_type": "code",
      "metadata": {
        "colab_type": "code",
        "id": "DQWfOddtjj1L",
        "colab": {
          "base_uri": "https://localhost:8080/",
          "height": 71
        },
        "outputId": "9e0fc8a0-9249-4080-97b8-061ad7f0af4a"
      },
      "source": [
        "word = [\"school\", \"game\", \"piano\", \"science\", \"hotel\", \"mountian\"]\n",
        "\n",
        "for x in word:\n",
        "  if len(x) >= 6:\n",
        "    print(x)"
      ],
      "execution_count": 1,
      "outputs": [
        {
          "output_type": "stream",
          "text": [
            "school\n",
            "science\n",
            "mountian\n"
          ],
          "name": "stdout"
        }
      ]
    },
    {
      "cell_type": "code",
      "metadata": {
        "id": "UHKj-Lgx_lEO",
        "colab_type": "code",
        "colab": {}
      },
      "source": [
        "word = [\"school\", \"game\", \"piano\", \"science\", \"hotel\", \"mountian\"]\n",
        "\n",
        "list = []\n",
        "for x in word:\n",
        "  if len(x) >= 6:\n",
        "    list = x\n",
        "    print(list)"
      ],
      "execution_count": 0,
      "outputs": []
    },
    {
      "cell_type": "markdown",
      "metadata": {
        "id": "n8vK0xaZkHZt",
        "colab_type": "text"
      },
      "source": [
        "#### 5번\n",
        "[3,6,9,20,-7,5]  리스트를sort와같은함수를사용하지말고for문을활용하여  \n",
        "오름차순으로정렬해주세요."
      ]
    },
    {
      "cell_type": "code",
      "metadata": {
        "id": "Zxwl5aFXkLf1",
        "colab_type": "code",
        "colab": {}
      },
      "source": [
        "num = [3, 6, 9, 20, -1, 5]\n",
        "\n",
        "for x in word:\n",
        "  if x > x+1:"
      ],
      "execution_count": 0,
      "outputs": []
    },
    {
      "cell_type": "markdown",
      "metadata": {
        "colab_type": "text",
        "id": "yPftzr4Fq1S2"
      },
      "source": [
        "#### 6번\n",
        "무한반복문과 break를 활용하여,  \n",
        "1-100까지숫자중3과5의공배수일경우 “3과5의공배수”  \n",
        "3의배수이기만 할 경우 “3의배수”  \n",
        "5의배수이기만 할 경우 “5의배수”  \n",
        "모두해당되지않을경우 그냥 숫자를출력하세요\n"
      ]
    },
    {
      "cell_type": "code",
      "metadata": {
        "colab_type": "code",
        "id": "92OXoyYaq1S4",
        "colab": {}
      },
      "source": [
        ""
      ],
      "execution_count": 0,
      "outputs": []
    },
    {
      "cell_type": "markdown",
      "metadata": {
        "colab_type": "text",
        "id": "QdLoCHjsq1S-"
      },
      "source": [
        "#### 7번\n",
        "아래, num_dic 라는 딕셔너리가 있다.\n",
        "무한반복문과 break를 활용하여,  \n",
        "1-100까지숫자중  \n",
        "3의배수 경우 “3의배수” 키값에 추가하고,   \n",
        "5의배수 경우 “5의배수” 키값에 추가해보세요."
      ]
    },
    {
      "cell_type": "code",
      "metadata": {
        "colab_type": "code",
        "id": "7oP6ErABq1S_",
        "outputId": "c59671a4-4765-45ab-dc1a-b0b6e5cebbaa",
        "colab": {
          "base_uri": "https://localhost:8080/"
        }
      },
      "source": [
        "num_dic = {}\n",
        "num_dic[ \"3의 배수\"] = []\n",
        "num_dic[ \"5의 배수\"] = []\n",
        "num_dic"
      ],
      "execution_count": 0,
      "outputs": [
        {
          "output_type": "execute_result",
          "data": {
            "text/plain": [
              "{'3의 배수': [], '5의 배수': []}"
            ]
          },
          "metadata": {
            "tags": []
          },
          "execution_count": 46
        }
      ]
    },
    {
      "cell_type": "markdown",
      "metadata": {
        "colab_type": "text",
        "id": "TOOg1aJbq1TE"
      },
      "source": [
        "#### 8번\n",
        "아래두리스트를곱해새로운리스트C를만드세요  \n",
        "a=[[10,20],[30,40],[50,60]]  \n",
        "b=[[2,3],[4,5],[6,7]]  \n",
        "\n"
      ]
    },
    {
      "cell_type": "code",
      "metadata": {
        "colab_type": "code",
        "id": "C-GskMYiq1TE",
        "colab": {
          "base_uri": "https://localhost:8080/",
          "height": 226
        },
        "outputId": "ae6283ac-851f-41ea-8a4c-4ba12db287f0"
      },
      "source": [
        "a = [[10,20],[30,40],[50,60]]\n",
        "b = [[2,3],[4,5],[6,7]]\n"
      ],
      "execution_count": 45,
      "outputs": [
        {
          "output_type": "error",
          "ename": "TypeError",
          "evalue": "ignored",
          "traceback": [
            "\u001b[0;31m---------------------------------------------------------------------------\u001b[0m",
            "\u001b[0;31mTypeError\u001b[0m                                 Traceback (most recent call last)",
            "\u001b[0;32m<ipython-input-45-c475fc41d3b2>\u001b[0m in \u001b[0;36m<module>\u001b[0;34m()\u001b[0m\n\u001b[1;32m      2\u001b[0m \u001b[0mb\u001b[0m \u001b[0;34m=\u001b[0m \u001b[0;34m[\u001b[0m\u001b[0;34m[\u001b[0m\u001b[0;36m2\u001b[0m\u001b[0;34m,\u001b[0m\u001b[0;36m3\u001b[0m\u001b[0;34m]\u001b[0m\u001b[0;34m,\u001b[0m\u001b[0;34m[\u001b[0m\u001b[0;36m4\u001b[0m\u001b[0;34m,\u001b[0m\u001b[0;36m5\u001b[0m\u001b[0;34m]\u001b[0m\u001b[0;34m,\u001b[0m\u001b[0;34m[\u001b[0m\u001b[0;36m6\u001b[0m\u001b[0;34m,\u001b[0m\u001b[0;36m7\u001b[0m\u001b[0;34m]\u001b[0m\u001b[0;34m]\u001b[0m\u001b[0;34m\u001b[0m\u001b[0;34m\u001b[0m\u001b[0m\n\u001b[1;32m      3\u001b[0m \u001b[0;34m\u001b[0m\u001b[0m\n\u001b[0;32m----> 4\u001b[0;31m \u001b[0mc\u001b[0m \u001b[0;34m=\u001b[0m \u001b[0mint\u001b[0m\u001b[0;34m(\u001b[0m\u001b[0ma\u001b[0m\u001b[0;34m)\u001b[0m \u001b[0;34m*\u001b[0m \u001b[0mint\u001b[0m\u001b[0;34m(\u001b[0m\u001b[0mb\u001b[0m\u001b[0;34m)\u001b[0m\u001b[0;34m\u001b[0m\u001b[0;34m\u001b[0m\u001b[0m\n\u001b[0m\u001b[1;32m      5\u001b[0m \u001b[0mc\u001b[0m\u001b[0;34m\u001b[0m\u001b[0;34m\u001b[0m\u001b[0m\n",
            "\u001b[0;31mTypeError\u001b[0m: int() argument must be a string, a bytes-like object or a number, not 'list'"
          ]
        }
      ]
    },
    {
      "cell_type": "markdown",
      "metadata": {
        "colab_type": "text",
        "id": "d2-IL0Kjq1TH"
      },
      "source": [
        "#### 9번\n",
        "a리스트가[[1,2],[3,4],[5,6]]와같이만들어지도록수정하세요"
      ]
    },
    {
      "cell_type": "code",
      "metadata": {
        "colab_type": "code",
        "id": "xuxd_ADWq1TI",
        "colab": {}
      },
      "source": [
        ""
      ],
      "execution_count": 0,
      "outputs": []
    },
    {
      "cell_type": "markdown",
      "metadata": {
        "colab_type": "text",
        "id": "yH5BYD_Nq1TL"
      },
      "source": [
        "#### 10번\n",
        "아래 info 변수 안에서 이름만 골라서 name변수에 담아보세요.\n"
      ]
    },
    {
      "cell_type": "code",
      "metadata": {
        "id": "P3UtClvFyE9Q",
        "colab_type": "code",
        "outputId": "488f3927-3a13-46e1-c6a4-e1a18b12546a",
        "colab": {
          "base_uri": "https://localhost:8080/",
          "height": 1000
        }
      },
      "source": [
        "  info = '''\n",
        "  서연\t1\t34,562\n",
        "  서윤\t2\t32,854\n",
        "  지우\t3\t28,729\n",
        "  서현\t4\t28,277\n",
        "  민서\t5\t27,308\n",
        "  하은\t6\t25,494\n",
        "  하윤\t7\t24,188\n",
        "  윤서\t8\t22,914\n",
        "  지민\t9\t22,244\n",
        "  지유\t10\t21,650\n",
        "  채원\t11\t21,406\n",
        "  지윤\t12\t20,253\n",
        "  은서\t13\t20,213\n",
        "  수아\t14\t19,501\n",
        "  다은\t15\t19,317\n",
        "  예은\t16\t18,943\n",
        "  수빈\t17\t18,195\n",
        "  지아\t18\t17,397\n",
        "  소율\t19\t17,145\n",
        "  예원\t20\t16,984\n",
        "  지원\t21\t16,677\n",
        "  예린\t22\t16,647\n",
        "  소윤\t23\t15,968\n",
        "  유진\t24\t14,787\n",
        "  시은\t25\t14,734\n",
        "  지안\t26\t14,513\n",
        "  하린\t27\t14,069\n",
        "  채은\t28\t14,057\n",
        "  가은\t29\t13,839\n",
        "  서영\t30\t13,651\n",
        "  윤아\t31\t13,625\n",
        "  민지\t32\t13,507\n",
        "  유나\t33\t13,267\n",
        "  예진\t34\t13,221\n",
        "  수민\t35\t12,927\n",
        "  수연\t36\t12,636\n",
        "  연우\t37\t12,302\n",
        "  예나\t38\t11,688\n",
        "  예서\t39\t11,686\n",
        "  주아\t40\t11,550\n",
        "  시연\t41\t11,489\n",
        "  서아\t42\t11,462\n",
        "  연서\t43\t11,136\n",
        "  현서\t44\t10,578\n",
        "  하율\t45\t10,545\n",
        "  다연\t46\t10,543\n",
        "  다인\t47\t10,503\n",
        "  아인\t48\t10,249\n",
        "  서은\t49\t10,180\n",
        "  서진\t50\t9,946\n",
        "  유빈\t51\t9,870\n",
        "  하연\t52\t9,798\n",
        "  유주\t53\t9,755\n",
        "  채윤\t54\t9,752\n",
        "  수현\t55\t9,732\n",
        "  시아\t56\t9,715\n",
        "  서율\t57\t9,586\n",
        "  지율\t58\t9,528\n",
        "  서우\t59\t9,467\n",
        "  예지\t60\t9,431\n",
        "  나윤\t61\t9,294\n",
        "  아린\t62\t9,154\n",
        "  다현\t63\t9,149\n",
        "  민주\t64\t8,807\n",
        "  지은\t65\t8,701\n",
        "  나연\t66\t8,602\n",
        "  소은\t67\t8,520\n",
        "  윤지\t68\t8,518\n",
        "  시현\t69\t8,497\n",
        "  예빈\t70\t8,431\n",
        "  지현\t71\t8,369\n",
        "  사랑\t72\t8,367\n",
        "  소연\t73\t8,341\n",
        "  혜원\t74\t7,988\n",
        "  서하\t75\t7,902\n",
        "  지수\t76\t7,876\n",
        "  은채\t77\t7,841\n",
        "  나은\t78\t7,796\n",
        "  주하\t79\t7,713\n",
        "  승아\t80\t7,452\n",
        "  아윤\t81\t7,446\n",
        "  서희\t82\t7,150\n",
        "  나현\t83\t7,096\n",
        "  소민\t84\t7,081\n",
        "  채아\t85\t7,073\n",
        "  민아\t86\t7,054\n",
        "  다윤\t87\t6,974\n",
        "  채린\t88\t6,965\n",
        "  세은\t89\t6,961\n",
        "  하영\t90\t6,906\n",
        "  도연\t91\t6,853\n",
        "  규리\t92\t6,812\n",
        "  아영\t93\t6,785\n",
        "  세아\t94\t6,602\n",
        "  지연\t95\t6,533\n",
        "  예림\t96\t6,480\n",
        "  가윤\t97\t6,433\n",
        "  태희\t98\t6,297\n",
        "  민채\t99\t6,260\n",
        "  주은\t100\t6,194'''.split()\n",
        "  info"
      ],
      "execution_count": 39,
      "outputs": [
        {
          "output_type": "execute_result",
          "data": {
            "text/plain": [
              "['서연',\n",
              " '1',\n",
              " '34,562',\n",
              " '서윤',\n",
              " '2',\n",
              " '32,854',\n",
              " '지우',\n",
              " '3',\n",
              " '28,729',\n",
              " '서현',\n",
              " '4',\n",
              " '28,277',\n",
              " '민서',\n",
              " '5',\n",
              " '27,308',\n",
              " '하은',\n",
              " '6',\n",
              " '25,494',\n",
              " '하윤',\n",
              " '7',\n",
              " '24,188',\n",
              " '윤서',\n",
              " '8',\n",
              " '22,914',\n",
              " '지민',\n",
              " '9',\n",
              " '22,244',\n",
              " '지유',\n",
              " '10',\n",
              " '21,650',\n",
              " '채원',\n",
              " '11',\n",
              " '21,406',\n",
              " '지윤',\n",
              " '12',\n",
              " '20,253',\n",
              " '은서',\n",
              " '13',\n",
              " '20,213',\n",
              " '수아',\n",
              " '14',\n",
              " '19,501',\n",
              " '다은',\n",
              " '15',\n",
              " '19,317',\n",
              " '예은',\n",
              " '16',\n",
              " '18,943',\n",
              " '수빈',\n",
              " '17',\n",
              " '18,195',\n",
              " '지아',\n",
              " '18',\n",
              " '17,397',\n",
              " '소율',\n",
              " '19',\n",
              " '17,145',\n",
              " '예원',\n",
              " '20',\n",
              " '16,984',\n",
              " '지원',\n",
              " '21',\n",
              " '16,677',\n",
              " '예린',\n",
              " '22',\n",
              " '16,647',\n",
              " '소윤',\n",
              " '23',\n",
              " '15,968',\n",
              " '유진',\n",
              " '24',\n",
              " '14,787',\n",
              " '시은',\n",
              " '25',\n",
              " '14,734',\n",
              " '지안',\n",
              " '26',\n",
              " '14,513',\n",
              " '하린',\n",
              " '27',\n",
              " '14,069',\n",
              " '채은',\n",
              " '28',\n",
              " '14,057',\n",
              " '가은',\n",
              " '29',\n",
              " '13,839',\n",
              " '서영',\n",
              " '30',\n",
              " '13,651',\n",
              " '윤아',\n",
              " '31',\n",
              " '13,625',\n",
              " '민지',\n",
              " '32',\n",
              " '13,507',\n",
              " '유나',\n",
              " '33',\n",
              " '13,267',\n",
              " '예진',\n",
              " '34',\n",
              " '13,221',\n",
              " '수민',\n",
              " '35',\n",
              " '12,927',\n",
              " '수연',\n",
              " '36',\n",
              " '12,636',\n",
              " '연우',\n",
              " '37',\n",
              " '12,302',\n",
              " '예나',\n",
              " '38',\n",
              " '11,688',\n",
              " '예서',\n",
              " '39',\n",
              " '11,686',\n",
              " '주아',\n",
              " '40',\n",
              " '11,550',\n",
              " '시연',\n",
              " '41',\n",
              " '11,489',\n",
              " '서아',\n",
              " '42',\n",
              " '11,462',\n",
              " '연서',\n",
              " '43',\n",
              " '11,136',\n",
              " '현서',\n",
              " '44',\n",
              " '10,578',\n",
              " '하율',\n",
              " '45',\n",
              " '10,545',\n",
              " '다연',\n",
              " '46',\n",
              " '10,543',\n",
              " '다인',\n",
              " '47',\n",
              " '10,503',\n",
              " '아인',\n",
              " '48',\n",
              " '10,249',\n",
              " '서은',\n",
              " '49',\n",
              " '10,180',\n",
              " '서진',\n",
              " '50',\n",
              " '9,946',\n",
              " '유빈',\n",
              " '51',\n",
              " '9,870',\n",
              " '하연',\n",
              " '52',\n",
              " '9,798',\n",
              " '유주',\n",
              " '53',\n",
              " '9,755',\n",
              " '채윤',\n",
              " '54',\n",
              " '9,752',\n",
              " '수현',\n",
              " '55',\n",
              " '9,732',\n",
              " '시아',\n",
              " '56',\n",
              " '9,715',\n",
              " '서율',\n",
              " '57',\n",
              " '9,586',\n",
              " '지율',\n",
              " '58',\n",
              " '9,528',\n",
              " '서우',\n",
              " '59',\n",
              " '9,467',\n",
              " '예지',\n",
              " '60',\n",
              " '9,431',\n",
              " '나윤',\n",
              " '61',\n",
              " '9,294',\n",
              " '아린',\n",
              " '62',\n",
              " '9,154',\n",
              " '다현',\n",
              " '63',\n",
              " '9,149',\n",
              " '민주',\n",
              " '64',\n",
              " '8,807',\n",
              " '지은',\n",
              " '65',\n",
              " '8,701',\n",
              " '나연',\n",
              " '66',\n",
              " '8,602',\n",
              " '소은',\n",
              " '67',\n",
              " '8,520',\n",
              " '윤지',\n",
              " '68',\n",
              " '8,518',\n",
              " '시현',\n",
              " '69',\n",
              " '8,497',\n",
              " '예빈',\n",
              " '70',\n",
              " '8,431',\n",
              " '지현',\n",
              " '71',\n",
              " '8,369',\n",
              " '사랑',\n",
              " '72',\n",
              " '8,367',\n",
              " '소연',\n",
              " '73',\n",
              " '8,341',\n",
              " '혜원',\n",
              " '74',\n",
              " '7,988',\n",
              " '서하',\n",
              " '75',\n",
              " '7,902',\n",
              " '지수',\n",
              " '76',\n",
              " '7,876',\n",
              " '은채',\n",
              " '77',\n",
              " '7,841',\n",
              " '나은',\n",
              " '78',\n",
              " '7,796',\n",
              " '주하',\n",
              " '79',\n",
              " '7,713',\n",
              " '승아',\n",
              " '80',\n",
              " '7,452',\n",
              " '아윤',\n",
              " '81',\n",
              " '7,446',\n",
              " '서희',\n",
              " '82',\n",
              " '7,150',\n",
              " '나현',\n",
              " '83',\n",
              " '7,096',\n",
              " '소민',\n",
              " '84',\n",
              " '7,081',\n",
              " '채아',\n",
              " '85',\n",
              " '7,073',\n",
              " '민아',\n",
              " '86',\n",
              " '7,054',\n",
              " '다윤',\n",
              " '87',\n",
              " '6,974',\n",
              " '채린',\n",
              " '88',\n",
              " '6,965',\n",
              " '세은',\n",
              " '89',\n",
              " '6,961',\n",
              " '하영',\n",
              " '90',\n",
              " '6,906',\n",
              " '도연',\n",
              " '91',\n",
              " '6,853',\n",
              " '규리',\n",
              " '92',\n",
              " '6,812',\n",
              " '아영',\n",
              " '93',\n",
              " '6,785',\n",
              " '세아',\n",
              " '94',\n",
              " '6,602',\n",
              " '지연',\n",
              " '95',\n",
              " '6,533',\n",
              " '예림',\n",
              " '96',\n",
              " '6,480',\n",
              " '가윤',\n",
              " '97',\n",
              " '6,433',\n",
              " '태희',\n",
              " '98',\n",
              " '6,297',\n",
              " '민채',\n",
              " '99',\n",
              " '6,260',\n",
              " '주은',\n",
              " '100',\n",
              " '6,194']"
            ]
          },
          "metadata": {
            "tags": []
          },
          "execution_count": 39
        }
      ]
    },
    {
      "cell_type": "code",
      "metadata": {
        "colab_type": "code",
        "id": "l8thlKr_q1TM",
        "colab": {
          "base_uri": "https://localhost:8080/",
          "height": 35
        },
        "outputId": "d07af249-6de5-476c-ae18-8579e5845ee6"
      },
      "source": [
        "for i in info:\n",
        "  name = info[0]\n",
        "\n",
        "name = info[0]\n",
        "name"
      ],
      "execution_count": 41,
      "outputs": [
        {
          "output_type": "execute_result",
          "data": {
            "text/plain": [
              "'서연'"
            ]
          },
          "metadata": {
            "tags": []
          },
          "execution_count": 41
        }
      ]
    },
    {
      "cell_type": "code",
      "metadata": {
        "id": "e83Zsf7Ww4KO",
        "colab_type": "code",
        "colab": {}
      },
      "source": [
        "#### 11번\n",
        "# 사각형별 출력해보세요\n",
        "# *****\n",
        "# *****\n",
        "# *****\n",
        "# *****\n",
        "# *****"
      ],
      "execution_count": 0,
      "outputs": []
    },
    {
      "cell_type": "code",
      "metadata": {
        "colab_type": "code",
        "id": "FV7shNz4w4KP",
        "colab": {
          "base_uri": "https://localhost:8080/",
          "height": 125
        },
        "outputId": "9f56acba-05bf-4368-f86f-893637089c49"
      },
      "source": [
        "for i in range(6):\n",
        "  print(\"*****\", sep = \"\\n\")"
      ],
      "execution_count": 7,
      "outputs": [
        {
          "output_type": "stream",
          "text": [
            "*****\n",
            "*****\n",
            "*****\n",
            "*****\n",
            "*****\n",
            "*****\n"
          ],
          "name": "stdout"
        }
      ]
    },
    {
      "cell_type": "code",
      "metadata": {
        "id": "F8P7_dZEw4KX",
        "colab_type": "code",
        "colab": {}
      },
      "source": [
        "#### 12번\n",
        "# 계단식별 출력해보세요\n",
        "# *\n",
        "# **\n",
        "# ***\n",
        "# ****\n",
        "# *****"
      ],
      "execution_count": 0,
      "outputs": []
    },
    {
      "cell_type": "code",
      "metadata": {
        "colab_type": "code",
        "id": "HjSYv8hYw4KY",
        "colab": {
          "base_uri": "https://localhost:8080/",
          "height": 125
        },
        "outputId": "b062d19b-1c37-41c9-c127-7cabef62546a"
      },
      "source": [
        "for i in range(6):\n",
        "  print(i * '*', sep = \" \")"
      ],
      "execution_count": 4,
      "outputs": [
        {
          "output_type": "stream",
          "text": [
            "\n",
            "*\n",
            "**\n",
            "***\n",
            "****\n",
            "*****\n"
          ],
          "name": "stdout"
        }
      ]
    },
    {
      "cell_type": "code",
      "metadata": {
        "id": "sMq44hFow4Kd",
        "colab_type": "code",
        "colab": {}
      },
      "source": [
        "#### 13번\n",
        "# 대각선별 출력해보세요\n",
        "# *\n",
        "#  *\n",
        "#   * \n",
        "#    *\n",
        "#     *"
      ],
      "execution_count": 0,
      "outputs": []
    },
    {
      "cell_type": "code",
      "metadata": {
        "colab_type": "code",
        "id": "JWF5UCKcw4Ke",
        "colab": {
          "base_uri": "https://localhost:8080/",
          "height": 107
        },
        "outputId": "6da9b736-2f58-469f-f7b2-c83abd6911de"
      },
      "source": [
        " for i in range(5):\n",
        "   print(\" \" * i, \"*\")"
      ],
      "execution_count": 13,
      "outputs": [
        {
          "output_type": "stream",
          "text": [
            " *\n",
            "  *\n",
            "   *\n",
            "    *\n",
            "     *\n"
          ],
          "name": "stdout"
        }
      ]
    },
    {
      "cell_type": "code",
      "metadata": {
        "id": "4pn3KUyMw4Ki",
        "colab_type": "code",
        "colab": {}
      },
      "source": [
        "#### 14번\n",
        "# 계단식(역순)\n",
        "# *****\n",
        "# ****\n",
        "# ***\n",
        "# **\n",
        "# * "
      ],
      "execution_count": 0,
      "outputs": []
    },
    {
      "cell_type": "code",
      "metadata": {
        "colab_type": "code",
        "id": "klD4Pwimw4Kj",
        "colab": {
          "base_uri": "https://localhost:8080/",
          "height": 107
        },
        "outputId": "48708e0d-aac6-4f5a-ffb3-c5d78fa6ccee"
      },
      "source": [
        "for i in range(5, 0, -1):\n",
        "  print(\"*\" * i)"
      ],
      "execution_count": 28,
      "outputs": [
        {
          "output_type": "stream",
          "text": [
            "*****\n",
            "****\n",
            "***\n",
            "**\n",
            "*\n"
          ],
          "name": "stdout"
        }
      ]
    },
    {
      "cell_type": "code",
      "metadata": {
        "id": "7MWxvPwEGaqC",
        "colab_type": "code",
        "colab": {
          "base_uri": "https://localhost:8080/",
          "height": 107
        },
        "outputId": "9c3f01cd-7b85-4813-c35d-a5187f7d93c7"
      },
      "source": [
        "# 2\n",
        "for i in range(5, 0, -1):\n",
        "  print(i * '*', sep = \" \")"
      ],
      "execution_count": 29,
      "outputs": [
        {
          "output_type": "stream",
          "text": [
            "*****\n",
            "****\n",
            "***\n",
            "**\n",
            "*\n"
          ],
          "name": "stdout"
        }
      ]
    },
    {
      "cell_type": "code",
      "metadata": {
        "id": "22IHHPOSw4Kr",
        "colab_type": "code",
        "colab": {}
      },
      "source": [
        "#### 15번\n",
        "# 계단식(역순)\n",
        "# *****\n",
        "#  ****\n",
        "#   ***\n",
        "#    **\n",
        "#     *"
      ],
      "execution_count": 0,
      "outputs": []
    },
    {
      "cell_type": "code",
      "metadata": {
        "id": "M9tvuCdGHP2P",
        "colab_type": "code",
        "colab": {
          "base_uri": "https://localhost:8080/",
          "height": 107
        },
        "outputId": "3c7d8ab3-19ed-4d99-b944-8fc574b83a58"
      },
      "source": [
        "for i, j in zip(range(5, 0, -1), range(5)):\n",
        "  print(\" \" * j, \"*\" * i)"
      ],
      "execution_count": 37,
      "outputs": [
        {
          "output_type": "stream",
          "text": [
            " *****\n",
            "  ****\n",
            "   ***\n",
            "    **\n",
            "     *\n"
          ],
          "name": "stdout"
        }
      ]
    },
    {
      "cell_type": "code",
      "metadata": {
        "id": "oxPJRaARDu-o",
        "colab_type": "code",
        "colab": {
          "base_uri": "https://localhost:8080/",
          "height": 107
        },
        "outputId": "cad148ea-b6c8-455d-aa71-d7a0d25175c2"
      },
      "source": [
        "# 2\n",
        "i = range(5, 0, -1)\n",
        "j = range(5)\n",
        "\n",
        "for i, j in zip(i, j):\n",
        "  print(\" \" * j, \"*\" * i)"
      ],
      "execution_count": 35,
      "outputs": [
        {
          "output_type": "stream",
          "text": [
            " *****\n",
            "  ****\n",
            "   ***\n",
            "    **\n",
            "     *\n"
          ],
          "name": "stdout"
        }
      ]
    },
    {
      "cell_type": "code",
      "metadata": {
        "id": "HJMD3j_eEzVg",
        "colab_type": "code",
        "colab": {
          "base_uri": "https://localhost:8080/",
          "height": 107
        },
        "outputId": "0da7fc7d-b3ad-4aaa-c489-f017a8423d15"
      },
      "source": [
        "# 3\n",
        "i = [5, 4, 3, 2, 1]\n",
        "j = [0, 1, 2, 3, 4]\n",
        "\n",
        "for i, j in zip(i, j):\n",
        "  print(\" \" * j, \"*\" * i)"
      ],
      "execution_count": 31,
      "outputs": [
        {
          "output_type": "stream",
          "text": [
            " *****\n",
            "  ****\n",
            "   ***\n",
            "    **\n",
            "     *\n"
          ],
          "name": "stdout"
        }
      ]
    }
  ]
}