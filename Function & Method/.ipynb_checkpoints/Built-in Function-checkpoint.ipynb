{
 "cells": [
  {
   "cell_type": "markdown",
   "metadata": {},
   "source": [
    "## Max, Min"
   ]
  },
  {
   "cell_type": "code",
   "execution_count": 3,
   "metadata": {},
   "outputs": [
    {
     "name": "stdout",
     "output_type": "stream",
     "text": [
      "100 1\n"
     ]
    }
   ],
   "source": [
    "my_tuple = (1, 2, 3, 5, 100)\n",
    "\n",
    "var1 = max(my_tuple)\n",
    "var2 = min(my_tuple)\n",
    "\n",
    "print(var1, var2)"
   ]
  },
  {
   "cell_type": "markdown",
   "metadata": {},
   "source": [
    "## Sum, Len"
   ]
  },
  {
   "cell_type": "code",
   "execution_count": 4,
   "metadata": {},
   "outputs": [
    {
     "name": "stdout",
     "output_type": "stream",
     "text": [
      "94 5 18.8\n"
     ]
    }
   ],
   "source": [
    "my_list = [3, 2, 5, 6, 78]\n",
    "\n",
    "var1 = sum(my_list)\n",
    "var2 = len(my_list)\n",
    "var3 = var1 / var2\n",
    "\n",
    "print(var1, var2, var3)"
   ]
  },
  {
   "cell_type": "markdown",
   "metadata": {},
   "source": [
    "## Return"
   ]
  },
  {
   "cell_type": "code",
   "execution_count": 5,
   "metadata": {},
   "outputs": [
    {
     "name": "stdout",
     "output_type": "stream",
     "text": [
      "7\n",
      "12\n"
     ]
    }
   ],
   "source": [
    "def plus_print(a, b):\n",
    "    print(a + b)\n",
    "    \n",
    "def times_return(a, b):\n",
    "    return a * b\n",
    "\n",
    "    \n",
    "plus_print(3, 4)\n",
    "print(times_return(3, 4))"
   ]
  }
 ],
 "metadata": {
  "kernelspec": {
   "display_name": "Python 3",
   "language": "python",
   "name": "python3"
  },
  "language_info": {
   "codemirror_mode": {
    "name": "ipython",
    "version": 3
   },
   "file_extension": ".py",
   "mimetype": "text/x-python",
   "name": "python",
   "nbconvert_exporter": "python",
   "pygments_lexer": "ipython3",
   "version": "3.7.6"
  }
 },
 "nbformat": 4,
 "nbformat_minor": 4
}
