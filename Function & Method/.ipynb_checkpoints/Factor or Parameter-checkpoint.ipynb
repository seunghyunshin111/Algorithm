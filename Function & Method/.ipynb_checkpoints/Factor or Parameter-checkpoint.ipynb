{
 "cells": [
  {
   "cell_type": "code",
   "execution_count": 1,
   "metadata": {},
   "outputs": [
    {
     "name": "stdout",
     "output_type": "stream",
     "text": [
      "12 ['Cham', 'Cham', 'Cham']\n"
     ]
    }
   ],
   "source": [
    "def solve(a, b):\n",
    "    return a*b\n",
    "    \n",
    "var1 = solve(3, 4)\n",
    "var2 = solve(3, ['Cham'])\n",
    "\n",
    "print(var1, var2)"
   ]
  }
 ],
 "metadata": {
  "kernelspec": {
   "display_name": "Python 3",
   "language": "python",
   "name": "python3"
  },
  "language_info": {
   "codemirror_mode": {
    "name": "ipython",
    "version": 3
   },
   "file_extension": ".py",
   "mimetype": "text/x-python",
   "name": "python",
   "nbconvert_exporter": "python",
   "pygments_lexer": "ipython3",
   "version": "3.7.6"
  }
 },
 "nbformat": 4,
 "nbformat_minor": 4
}
