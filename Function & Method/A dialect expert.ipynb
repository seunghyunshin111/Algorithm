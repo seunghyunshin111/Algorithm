{
 "cells": [
  {
   "cell_type": "code",
   "execution_count": 1,
   "metadata": {},
   "outputs": [
    {
     "name": "stdout",
     "output_type": "stream",
     "text": [
      "서울 : 밥 먹었어요?\n",
      "부산 : 밥 뭇나?\n"
     ]
    }
   ],
   "source": [
    "# 다음은 표준어로 \"밥 먹었어요?\"가 담긴 변수 greeting입니다.\n",
    "greeting = \"밥 먹었어요?\"\n",
    "\n",
    "\n",
    "# 이를 print로 출력하면 다음과 같습니다.\n",
    "print(\"서울 :\",greeting)\n",
    "\n",
    "\n",
    "# 함수 busan을 선언하고, 그 안에 변수 greeting에 \"밥 뭇나?\"를 넣어봅시다.\n",
    "def busan():\n",
    "    greeting = \"밥 뭇나?\"\n",
    "    \n",
    "    print(\"부산 :\",greeting)\n",
    "    \n",
    "    \n",
    "# 함수 busan을 실행해보세요.\n",
    "busan()"
   ]
  },
  {
   "cell_type": "code",
   "execution_count": 2,
   "metadata": {},
   "outputs": [
    {
     "name": "stdout",
     "output_type": "stream",
     "text": [
      "밥 먹었어요?\n"
     ]
    }
   ],
   "source": [
    "# 변수 greeting을 출력해보세요.\n",
    "print(greeting)"
   ]
  }
 ],
 "metadata": {
  "kernelspec": {
   "display_name": "Python 3",
   "language": "python",
   "name": "python3"
  },
  "language_info": {
   "codemirror_mode": {
    "name": "ipython",
    "version": 3
   },
   "file_extension": ".py",
   "mimetype": "text/x-python",
   "name": "python",
   "nbconvert_exporter": "python",
   "pygments_lexer": "ipython3",
   "version": "3.7.6"
  }
 },
 "nbformat": 4,
 "nbformat_minor": 4
}
