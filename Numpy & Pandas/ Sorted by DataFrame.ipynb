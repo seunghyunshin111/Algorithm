{
 "cells": [
  {
   "cell_type": "code",
   "execution_count": 2,
   "metadata": {},
   "outputs": [
    {
     "name": "stdout",
     "output_type": "stream",
     "text": [
      "DataFrame: \n",
      "   col1 col2  col3\n",
      "0     2    A     0\n",
      "1     1    A     1\n",
      "2     9    B     9\n",
      "3     8  NaN     4\n",
      "4     7    D     2\n",
      "5     4    C     3 \n",
      "\n"
     ]
    }
   ],
   "source": [
    "import numpy as np\n",
    "import pandas as pd\n",
    "\n",
    "print(\"DataFrame: \")\n",
    "df = pd.DataFrame({\n",
    "    'col1' : [2, 1, 9, 8, 7, 4],\n",
    "    'col2' : ['A', 'A', 'B', np.nan, 'D', 'C'],\n",
    "    'col3': [0, 1, 9, 4, 2, 3],\n",
    "})\n",
    "print(df, \"\\n\")\n",
    "\n",
    "\n",
    "# 정렬 코드 입력해보기    \n",
    "# Q1. col1을 기준으로 오름차순으로 정렬하기.\n",
    "sorted_df1 = df.sort_values('col1', ascending = True)\n",
    "\n",
    "\n",
    "# Q2. col2를 기준으로 내림차순으로 정렬하기.\n",
    "sorted_df2 = df.sort_values('col2', ascending = False)\n",
    "\n",
    "\n",
    "# Q3. col2를 기준으로 오름차순으로, col1를 기준으로 내림차순으로 정렬하기.\n",
    "sorted_df3 = df.sort_values(['col2', 'col1'], ascending=[True, False])\n",
    "\n"
   ]
  }
 ],
 "metadata": {
  "kernelspec": {
   "display_name": "Python 3",
   "language": "python",
   "name": "python3"
  },
  "language_info": {
   "codemirror_mode": {
    "name": "ipython",
    "version": 3
   },
   "file_extension": ".py",
   "mimetype": "text/x-python",
   "name": "python",
   "nbconvert_exporter": "python",
   "pygments_lexer": "ipython3",
   "version": "3.7.6"
  }
 },
 "nbformat": 4,
 "nbformat_minor": 4
}
