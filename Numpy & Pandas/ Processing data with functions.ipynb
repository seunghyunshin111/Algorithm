{
 "cells": [
  {
   "cell_type": "code",
   "execution_count": 1,
   "metadata": {},
   "outputs": [
    {
     "name": "stdout",
     "output_type": "stream",
     "text": [
      "   Num\n",
      "0    0\n",
      "1    1\n",
      "2    2\n",
      "3    3\n",
      "4    4 \n",
      "\n"
     ]
    }
   ],
   "source": [
    "import numpy as np\n",
    "import pandas as pd\n",
    "\n",
    "df = pd.DataFrame(np.arange(5), columns=[\"Num\"])\n",
    "print(df, \"\\n\")\n",
    "\n",
    "\n",
    "# 값을 받으면 제곱을 해서 돌려주는 함수\n",
    "def square(x):\n",
    "    return x**2\n",
    "\n",
    "\n",
    "# apply로 컬럼에 함수 적용\n",
    "df[\"Square\"] = df[\"Num\"].apply(square)\n",
    "\n",
    "\n",
    "# 람다 표현식으로도 적용하기\n",
    "df[\"Square\"] = df[\"Num\"].apply(lambda x: x ** 2)"
   ]
  }
 ],
 "metadata": {
  "kernelspec": {
   "display_name": "Python 3",
   "language": "python",
   "name": "python3"
  },
  "language_info": {
   "codemirror_mode": {
    "name": "ipython",
    "version": 3
   },
   "file_extension": ".py",
   "mimetype": "text/x-python",
   "name": "python",
   "nbconvert_exporter": "python",
   "pygments_lexer": "ipython3",
   "version": "3.7.6"
  }
 },
 "nbformat": 4,
 "nbformat_minor": 4
}
