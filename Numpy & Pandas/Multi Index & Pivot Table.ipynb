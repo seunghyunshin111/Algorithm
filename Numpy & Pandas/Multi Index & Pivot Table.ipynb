{
 "cells": [
  {
   "cell_type": "code",
   "execution_count": 1,
   "metadata": {},
   "outputs": [
    {
     "name": "stdout",
     "output_type": "stream",
     "text": [
      "DataFrame1\n",
      "        data1     data2\n",
      "A 1 -0.308692 -1.881240\n",
      "  2 -0.587952 -0.756909\n",
      "B 1  1.181483  0.439563\n",
      "  2  0.021726  1.062142 \n",
      "\n",
      "DataFrame2\n",
      "          A                   B          \n",
      "          1         2         1         2\n",
      "0 -0.758703 -1.053564  1.350160 -0.170763\n",
      "1  0.979937 -0.391088 -0.189365 -0.023631\n",
      "2 -0.205432 -0.497299 -0.940084 -1.086255\n",
      "3  0.395516 -0.080290  0.742820 -0.741349 \n",
      "\n",
      "df1.loc['A', 1]\n",
      "data1   -0.308692\n",
      "data2   -1.881240\n",
      "Name: (A, 1), dtype: float64 \n",
      "\n",
      "df2[\"A\"][\"1\"]\n",
      "0   -0.758703\n",
      "1    0.979937\n",
      "2   -0.205432\n",
      "3    0.395516\n",
      "Name: 1, dtype: float64 \n",
      "\n"
     ]
    }
   ],
   "source": [
    "import numpy as np\n",
    "import pandas as pd\n",
    "\n",
    "df1 = pd.DataFrame(\n",
    "    np.random.randn(4, 2), \n",
    "    index=[['A', 'A', 'B', 'B'], [1, 2, 1, 2]],\n",
    "    columns=['data1', 'data2']\n",
    ")\n",
    "print(\"DataFrame1\")\n",
    "print(df1, \"\\n\")\n",
    "\n",
    "df2 = pd.DataFrame(\n",
    "    np.random.randn(4, 4),\n",
    "    columns=[[\"A\", \"A\", \"B\", \"B\"], [\"1\", \"2\", \"1\", \"2\"]]\n",
    ")\n",
    "print(\"DataFrame2\")\n",
    "print(df2, \"\\n\")\n",
    "\n",
    "# 명시적 인덱싱을 활용한 df1의 인덱스 출력\n",
    "print(\"df1.loc['A', 1]\")\n",
    "print(df1.loc['A', 1], \"\\n\") \n",
    "\n",
    "\n",
    "# df2의 [A][1] 칼럼 출력\n",
    "print('df2[\"A\"][\"1\"]')\n",
    "print(df2[\"A\"][\"1\"], \"\\n\")"
   ]
  }
 ],
 "metadata": {
  "kernelspec": {
   "display_name": "Python 3",
   "language": "python",
   "name": "python3"
  },
  "language_info": {
   "codemirror_mode": {
    "name": "ipython",
    "version": 3
   },
   "file_extension": ".py",
   "mimetype": "text/x-python",
   "name": "python",
   "nbconvert_exporter": "python",
   "pygments_lexer": "ipython3",
   "version": "3.7.6"
  }
 },
 "nbformat": 4,
 "nbformat_minor": 4
}
