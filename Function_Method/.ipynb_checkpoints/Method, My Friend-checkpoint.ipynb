{
 "cells": [
  {
   "cell_type": "code",
   "execution_count": 1,
   "metadata": {},
   "outputs": [
    {
     "name": "stdout",
     "output_type": "stream",
     "text": [
      "dict_keys(['사과', '오렌지', '레몬']) dict_values(['apple', 'orange', 'lemon'])\n"
     ]
    }
   ],
   "source": [
    "my_dict = {'사과' : 'apple', '오렌지' : 'orange', '레몬' : 'lemon'}\n",
    "\n",
    "var1 = my_dict.keys()\n",
    "var2 = my_dict.values()\n",
    "\n",
    "print(var1, var2)"
   ]
  }
 ],
 "metadata": {
  "kernelspec": {
   "display_name": "Python 3",
   "language": "python",
   "name": "python3"
  },
  "language_info": {
   "codemirror_mode": {
    "name": "ipython",
    "version": 3
   },
   "file_extension": ".py",
   "mimetype": "text/x-python",
   "name": "python",
   "nbconvert_exporter": "python",
   "pygments_lexer": "ipython3",
   "version": "3.7.6"
  }
 },
 "nbformat": 4,
 "nbformat_minor": 4
}
