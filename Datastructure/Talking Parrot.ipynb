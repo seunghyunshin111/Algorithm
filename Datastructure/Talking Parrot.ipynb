{
 "cells": [
  {
   "cell_type": "code",
   "execution_count": 1,
   "metadata": {},
   "outputs": [
    {
     "name": "stdout",
     "output_type": "stream",
     "text": [
      "다다다\n",
      "앵무새 : 다다다\n",
      "<class 'str'>\n"
     ]
    }
   ],
   "source": [
    "var = input()\n",
    "# 앵무새가 말을 따라합니다!\n",
    "print(\"앵무새 :\", var)\n",
    "\n",
    "# 입력한 값이 어떤 자료형인지 확인해봅시다.\n",
    "print(type(var))"
   ]
  }
 ],
 "metadata": {
  "kernelspec": {
   "display_name": "Python 3",
   "language": "python",
   "name": "python3"
  },
  "language_info": {
   "codemirror_mode": {
    "name": "ipython",
    "version": 3
   },
   "file_extension": ".py",
   "mimetype": "text/x-python",
   "name": "python",
   "nbconvert_exporter": "python",
   "pygments_lexer": "ipython3",
   "version": "3.7.6"
  }
 },
 "nbformat": 4,
 "nbformat_minor": 4
}
