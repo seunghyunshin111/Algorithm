{
 "cells": [
  {
   "cell_type": "code",
   "execution_count": 1,
   "metadata": {},
   "outputs": [
    {
     "name": "stdout",
     "output_type": "stream",
     "text": [
      "Tuple은 값을 변경할 수 없습니다.\n",
      "Tuple은 값을 추가할 수 없습니다.\n"
     ]
    }
   ],
   "source": [
    "my_tuple = (1, 2, 3)\n",
    "\n",
    "try:\n",
    "    #여기에 인덱싱을 이용해서 Tuple의 값을 변경해봅시다.\n",
    "    my_tuple[2] = 5\n",
    "    \n",
    "except TypeError:\n",
    "    print(\"Tuple은 값을 변경할 수 없습니다.\")\n",
    "    \n",
    "try:\n",
    "    #여기에 .append()를 이용해서 Tuple의 값을 추가해봅시다.\n",
    "    my_tuple.append(6)\n",
    "    \n",
    "except AttributeError:\n",
    "    print(\"Tuple은 값을 추가할 수 없습니다.\")"
   ]
  }
 ],
 "metadata": {
  "kernelspec": {
   "display_name": "Python 3",
   "language": "python",
   "name": "python3"
  },
  "language_info": {
   "codemirror_mode": {
    "name": "ipython",
    "version": 3
   },
   "file_extension": ".py",
   "mimetype": "text/x-python",
   "name": "python",
   "nbconvert_exporter": "python",
   "pygments_lexer": "ipython3",
   "version": "3.7.6"
  }
 },
 "nbformat": 4,
 "nbformat_minor": 4
}
