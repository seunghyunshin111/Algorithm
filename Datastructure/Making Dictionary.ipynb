{
 "cells": [
  {
   "cell_type": "code",
   "execution_count": 1,
   "metadata": {},
   "outputs": [
    {
     "data": {
      "text/plain": [
       "{'작가': ['SIU', '조용석', '영파카'],\n",
       " '평점': ['9.94', '9.82', '9.92'],\n",
       " '제목': ['신의 탑', '뷰티풀', '니편내편']}"
      ]
     },
     "execution_count": 1,
     "metadata": {},
     "output_type": "execute_result"
    }
   ],
   "source": [
    "NaverWebtoon = {}\n",
    "NaverWebtoon['작가'] = ['SIU', '조용석', '영파카']\n",
    "NaverWebtoon['평점'] = ['9.94', '9.82', '9.92']\n",
    "NaverWebtoon['제목'] = ['신의 탑', '뷰티풀', '니편내편']\n",
    "NaverWebtoon"
   ]
  },
  {
   "cell_type": "code",
   "execution_count": 2,
   "metadata": {},
   "outputs": [
    {
     "data": {
      "text/plain": [
       "[{'작가': 'SIU', '평점': '9.94', '제목': '신의 탑'},\n",
       " {'작가': '조용석', '평점': '9.82', '제목': '뷰티풀'},\n",
       " {'작가': '영파카', '평점': '9.92', '제목': '니편내편'}]"
      ]
     },
     "execution_count": 2,
     "metadata": {},
     "output_type": "execute_result"
    }
   ],
   "source": [
    "NaverWebtoon = [{}, {}, {}]\n",
    "NaverWebtoon[0]['작가'] = 'SIU'\n",
    "NaverWebtoon[0]['평점'] = '9.94'\n",
    "NaverWebtoon[0]['제목'] = '신의 탑'\n",
    "\n",
    "NaverWebtoon[1]['작가'] = '조용석'\n",
    "NaverWebtoon[1]['평점'] = '9.82'\n",
    "NaverWebtoon[1]['제목'] = '뷰티풀'\n",
    "\n",
    "NaverWebtoon[2]['작가'] = '영파카'\n",
    "NaverWebtoon[2]['평점'] = '9.92'\n",
    "NaverWebtoon[2]['제목'] = '니편내편'\n",
    "\n",
    "NaverWebtoon "
   ]
  }
 ],
 "metadata": {
  "kernelspec": {
   "display_name": "Python 3",
   "language": "python",
   "name": "python3"
  },
  "language_info": {
   "codemirror_mode": {
    "name": "ipython",
    "version": 3
   },
   "file_extension": ".py",
   "mimetype": "text/x-python",
   "name": "python",
   "nbconvert_exporter": "python",
   "pygments_lexer": "ipython3",
   "version": "3.7.6"
  }
 },
 "nbformat": 4,
 "nbformat_minor": 4
}
