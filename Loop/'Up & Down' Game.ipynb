{
 "cells": [
  {
   "cell_type": "code",
   "execution_count": 1,
   "metadata": {},
   "outputs": [
    {
     "name": "stdout",
     "output_type": "stream",
     "text": [
      "50\n",
      "정답!\n"
     ]
    }
   ],
   "source": [
    "# 변수 answer에 수 1~50 중 하나를 넣어봅시다.\n",
    "answer = 50\n",
    "\n",
    "# input으로 숫자 입력을 받아서 변수 submit에 저장해봅시다.\n",
    "submit = input()\n",
    "submit = int(submit)\n",
    "\n",
    "# if-elif-else문으로 Up-Down Game을 구현해봅시다.\n",
    "# 만약 answer보다 submit이 더 크면 \"정답보다 더 큰 수를 입력했습니다.\"\n",
    "# 만약 answer보다 submit이 더 작으면 \"정답보다 더 작은 수를 입력했습니다.\"\n",
    "# 만약 answer와 submit이 같으면 \"정답!\" 를 출력합니다.\n",
    "if submit > answer:\n",
    "    print(\"정답보다 더 큰 수를 입력했습니다.\")\n",
    "elif submit < answer:\n",
    "    print(\"정답보다 더 작은 수를 입력했습니다.\")\n",
    "else:\n",
    "    print(\"정답!\")"
   ]
  },
  {
   "cell_type": "code",
   "execution_count": 2,
   "metadata": {},
   "outputs": [
    {
     "name": "stdout",
     "output_type": "stream",
     "text": [
      "30\n",
      "정답보다 더 작은 수를 입력했습니다.\n"
     ]
    }
   ],
   "source": [
    "# input으로 숫자 입력을 받아서 변수 submit에 저장해봅시다.\n",
    "submit = input()\n",
    "submit = int(submit)\n",
    "\n",
    "# if-elif-else문으로 Up-Down Game을 구현해봅시다.\n",
    "# 만약 answer보다 submit이 더 크면 \"정답보다 더 큰 수를 입력했습니다.\"\n",
    "# 만약 answer보다 submit이 더 작으면 \"정답보다 더 작은 수를 입력했습니다.\"\n",
    "# 만약 answer와 submit이 같으면 \"정답!\" 를 출력합니다.\n",
    "if submit > answer:\n",
    "    print(\"정답보다 더 큰 수를 입력했습니다.\")\n",
    "elif submit < answer:\n",
    "    print(\"정답보다 더 작은 수를 입력했습니다.\")\n",
    "else:\n",
    "    print(\"정답!\")"
   ]
  },
  {
   "cell_type": "code",
   "execution_count": 3,
   "metadata": {},
   "outputs": [
    {
     "name": "stdout",
     "output_type": "stream",
     "text": [
      "70\n",
      "정답보다 더 큰 수를 입력했습니다.\n"
     ]
    }
   ],
   "source": [
    "# input으로 숫자 입력을 받아서 변수 submit에 저장해봅시다.\n",
    "submit = input()\n",
    "submit = int(submit)\n",
    "\n",
    "# if-elif-else문으로 Up-Down Game을 구현해봅시다.\n",
    "# 만약 answer보다 submit이 더 크면 \"정답보다 더 큰 수를 입력했습니다.\"\n",
    "# 만약 answer보다 submit이 더 작으면 \"정답보다 더 작은 수를 입력했습니다.\"\n",
    "# 만약 answer와 submit이 같으면 \"정답!\" 를 출력합니다.\n",
    "if submit > answer:\n",
    "    print(\"정답보다 더 큰 수를 입력했습니다.\")\n",
    "elif submit < answer:\n",
    "    print(\"정답보다 더 작은 수를 입력했습니다.\")\n",
    "else:\n",
    "    print(\"정답!\")"
   ]
  }
 ],
 "metadata": {
  "kernelspec": {
   "display_name": "Python 3",
   "language": "python",
   "name": "python3"
  },
  "language_info": {
   "codemirror_mode": {
    "name": "ipython",
    "version": 3
   },
   "file_extension": ".py",
   "mimetype": "text/x-python",
   "name": "python",
   "nbconvert_exporter": "python",
   "pygments_lexer": "ipython3",
   "version": "3.7.6"
  }
 },
 "nbformat": 4,
 "nbformat_minor": 4
}
