{
 "cells": [
  {
   "cell_type": "markdown",
   "metadata": {},
   "source": [
    "## Class"
   ]
  },
  {
   "cell_type": "code",
   "execution_count": null,
   "metadata": {},
   "outputs": [],
   "source": [
    "class Human:\n",
    "    name = \"\"\n",
    "    age = 0\n",
    "    def exercise(self):\n",
    "        return \"운동!\""
   ]
  },
  {
   "cell_type": "markdown",
   "metadata": {},
   "source": [
    "## Instance"
   ]
  },
  {
   "cell_type": "code",
   "execution_count": 6,
   "metadata": {},
   "outputs": [
    {
     "name": "stdout",
     "output_type": "stream",
     "text": [
      "Bob 10\n"
     ]
    }
   ],
   "source": [
    "# class Human\n",
    "class Human:\n",
    "    name = \"\"\n",
    "    age = 0\n",
    "    \n",
    "    def exercise(self):\n",
    "        return \"운동!\"\n",
    "        \n",
    "# instance Bobby\n",
    "bobby = Human()\n",
    "bobby.name = \"Bob\"\n",
    "bobby.age = 10\n",
    "\n",
    "print(bobby.name, bobby.age)"
   ]
  },
  {
   "cell_type": "markdown",
   "metadata": {},
   "source": [
    "## Inheritance"
   ]
  },
  {
   "cell_type": "code",
   "execution_count": 7,
   "metadata": {},
   "outputs": [
    {
     "name": "stdout",
     "output_type": "stream",
     "text": [
      "cute\n",
      "멍멍!\n"
     ]
    }
   ],
   "source": [
    "class Pet:\n",
    "    attr = \"cute\"\n",
    "    def cry(self):\n",
    "        return \"멍멍!\"\n",
    "    \n",
    "class Dog(Pet):\n",
    "    pass\n",
    "    \n",
    "maltese = Dog()\n",
    "print(maltese.attr)\n",
    "print(maltese.cry())"
   ]
  },
  {
   "cell_type": "markdown",
   "metadata": {},
   "source": [
    "## OPP: 다형성*\n",
    "\n",
    "### *다형성: 같은 모양의 코드가 다른 역할을 하는 것"
   ]
  },
  {
   "cell_type": "code",
   "execution_count": 8,
   "metadata": {},
   "outputs": [
    {
     "name": "stdout",
     "output_type": "stream",
     "text": [
      "살랑살랑\n",
      "뚜벅뚜벅\n"
     ]
    }
   ],
   "source": [
    "class Animal:\n",
    "    legs = 0\n",
    "    def walk(self):\n",
    "        return \"\"\n",
    "    \n",
    "class Dog(Animal):\n",
    "    legs = 4\n",
    "    def walk(self):\n",
    "        return \"살랑살랑\"\n",
    "        \n",
    "class Human(Animal):\n",
    "    legs = 2\n",
    "    def walk(self):\n",
    "        return \"뚜벅뚜벅\"\n",
    "        \n",
    "maltese = Dog()\n",
    "gildong = Human()\n",
    "\n",
    "print(maltese.walk())\n",
    "print(gildong.walk())"
   ]
  },
  {
   "cell_type": "markdown",
   "metadata": {},
   "source": [
    "## Python의 객체"
   ]
  },
  {
   "cell_type": "code",
   "execution_count": 9,
   "metadata": {},
   "outputs": [
    {
     "name": "stdout",
     "output_type": "stream",
     "text": [
      "[1, 2, 3]\n",
      "<class 'list'>\n"
     ]
    }
   ],
   "source": [
    "nums = [1, 2, 3]\n",
    "print(nums)\n",
    "print(type(nums))\n",
    "\n",
    "nums.append(4)"
   ]
  }
 ],
 "metadata": {
  "kernelspec": {
   "display_name": "Python 3",
   "language": "python",
   "name": "python3"
  },
  "language_info": {
   "codemirror_mode": {
    "name": "ipython",
    "version": 3
   },
   "file_extension": ".py",
   "mimetype": "text/x-python",
   "name": "python",
   "nbconvert_exporter": "python",
   "pygments_lexer": "ipython3",
   "version": "3.7.6"
  }
 },
 "nbformat": 4,
 "nbformat_minor": 4
}
