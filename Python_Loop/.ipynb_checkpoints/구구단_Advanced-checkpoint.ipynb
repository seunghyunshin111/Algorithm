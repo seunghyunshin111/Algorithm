{
 "cells": [
  {
   "cell_type": "code",
   "execution_count": 1,
   "metadata": {},
   "outputs": [
    {
     "name": "stdout",
     "output_type": "stream",
     "text": [
      "몇 단을 출력하시겠습니까?5\n",
      "5 * 1 = 5\n",
      "5 * 2 = 10\n",
      "5 * 3 = 15\n",
      "5 * 4 = 20\n",
      "5 * 5 = 25\n",
      "5 * 6 = 30\n",
      "5 * 7 = 35\n",
      "5 * 8 = 40\n",
      "5 * 9 = 45\n"
     ]
    }
   ],
   "source": [
    "dan = input('몇 단을 출력하시겠습니까?')\n",
    "\n",
    "check_int = 0\n",
    "for dn in dan:\n",
    "  if int(dn) in range(10):\n",
    "    continue\n",
    "  else:\n",
    "    print('정수를 입력해주세요!') \n",
    "    check_int = 1 \n",
    "    break \n",
    "\n",
    "if check_int == 0:\n",
    "  dan = int(dan)\n",
    "  if 2 <= dan <= 9: \n",
    "    for num in range(1, 10):\n",
    "        print(\"{} * {} = {}\".format(dan, num, dan*num))\n",
    "  else:\n",
    "    print('2-9 사이의 정수를 입력해주세요!')"
   ]
  }
 ],
 "metadata": {
  "kernelspec": {
   "display_name": "Python 3",
   "language": "python",
   "name": "python3"
  },
  "language_info": {
   "codemirror_mode": {
    "name": "ipython",
    "version": 3
   },
   "file_extension": ".py",
   "mimetype": "text/x-python",
   "name": "python",
   "nbconvert_exporter": "python",
   "pygments_lexer": "ipython3",
   "version": "3.7.6"
  }
 },
 "nbformat": 4,
 "nbformat_minor": 4
}
