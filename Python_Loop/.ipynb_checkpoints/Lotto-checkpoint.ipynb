{
 "cells": [
  {
   "cell_type": "code",
   "execution_count": null,
   "metadata": {},
   "outputs": [],
   "source": [
    "import random\n",
    "\n",
    "lotto = []\n",
    "\n",
    "while len(lotto) < 6:\n",
    "    num = random.randrange(1, 46)\n",
    "   \n",
    "    if num in lotto:\n",
    "        pass\n",
    "    else:\n",
    "        lotto.append(num)\n",
    "       \n",
    "lotto.sort()\n",
    "\n",
    "print(lotto)"
   ]
  }
 ],
 "metadata": {
  "kernelspec": {
   "display_name": "Python 3",
   "language": "python",
   "name": "python3"
  },
  "language_info": {
   "codemirror_mode": {
    "name": "ipython",
    "version": 3
   },
   "file_extension": ".py",
   "mimetype": "text/x-python",
   "name": "python",
   "nbconvert_exporter": "python",
   "pygments_lexer": "ipython3",
   "version": "3.7.6"
  }
 },
 "nbformat": 4,
 "nbformat_minor": 4
}
