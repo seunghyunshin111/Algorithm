{
 "cells": [
  {
   "cell_type": "code",
   "execution_count": null,
   "metadata": {},
   "outputs": [],
   "source": [
    "# 양수 출력 및 *10 출력\n",
    "\n",
    "x = [3, 6, 9, 20, -7, 5]\n",
    "\n",
    "for i in x:\n",
    "  if i < 0:\n",
    "    i = i * -1\n",
    "     \n",
    "  if i % 2 == 0:\n",
    "      i = i * 10\n",
    "  elif i % 2 != 0:\n",
    "      i = i * 10\n",
    "\n",
    "  print(i)"
   ]
  }
 ],
 "metadata": {
  "kernelspec": {
   "display_name": "Python 3",
   "language": "python",
   "name": "python3"
  },
  "language_info": {
   "codemirror_mode": {
    "name": "ipython",
    "version": 3
   },
   "file_extension": ".py",
   "mimetype": "text/x-python",
   "name": "python",
   "nbconvert_exporter": "python",
   "pygments_lexer": "ipython3",
   "version": "3.7.6"
  }
 },
 "nbformat": 4,
 "nbformat_minor": 4
}
